{
 "cells": [
  {
   "cell_type": "code",
   "execution_count": 32,
   "metadata": {},
   "outputs": [],
   "source": [
    "import csv\n",
    "import numpy as np\n",
    "import pandas as pd\n",
    "import matplotlib.pyplot as plt\n",
    "year = 2020\n",
    "#dati https://geodati.gov.it:443/geoportalRNDTPA/catalog/search/resource/details.page?uuid=PCM:COVID-19:05032020:093000\n",
    "#aree https://geodati.gov.it/geoportalRNDTPA/catalog/search/resource/details.page?uuid=PCM:000086:20200306:110700\n",
    "#dati nazionale https://github.com/pcm-dpc/COVID-19/tree/master/dati-andamento-nazionale\n",
    "#dati regionale https://github.com/pcm-dpc/COVID-19/tree/master/dati-regioni\n",
    "#dati province https://github.com/pcm-dpc/COVID-19/tree/master/dati-province\n",
    "cvs_national_fileurl = \"https://raw.githubusercontent.com/pcm-dpc/COVID-19/master/dati-andamento-nazionale/dpc-covid19-ita-andamento-nazionale.csv\"\n",
    "months_days=(('02','24'),('02','25'),('02','26'),('02','27'),('02','28'),('02','29'),\n",
    "             ('03','01'),('03','02'),('03','03'),('03','04'),('03','05'),('03','06'),\n",
    "             ('03','07'),('03','08'),('03','09'),('03','10'),('03','11'),('03','12'),\n",
    "             ('03','13'),('03','14'),('03','15'),('03','16'),('03','17'),('03','18'),\n",
    "             ('03','19'),('03','20'),('03','21'))\n"
   ]
  },
  {
   "cell_type": "code",
   "execution_count": 33,
   "metadata": {},
   "outputs": [],
   "source": [
    "#data (S20),stato (S3),ricoverati_con_sintomi,terapia_intensiva,totale_ospedalizzati,isolamento_domiciliare,totale_attualmente_positivi,nuovi_attualmente_positivi,dimessi_guariti,deceduti,totale_casi,tamponi\n",
    "# 2020-02-24 18:00:00,ITA,101,26,127,94,221,221,1,7,229,4324\n",
    "dtype_andamento_nazionale=\"datetime64[s],S3,i8,i8,i8,i8,i8,i8,i8,i8,i8,i8\"\n",
    "dtype_data = np.dtype([('anno',np.int32),('mese',np.int32),('giorno',np.int32)])"
   ]
  },
  {
   "cell_type": "code",
   "execution_count": 34,
   "metadata": {},
   "outputs": [
    {
     "data": {
      "text/plain": [
       "array([('2020-02-24T18:00:00', b'ITA',   101,   26,   127,    94,   221,  221,    1,    7,   229,   4324),\n",
       "       ('2020-02-25T18:00:00', b'ITA',   114,   35,   150,   162,   311,   90,    1,   10,   322,   8623),\n",
       "       ('2020-02-26T18:00:00', b'ITA',   128,   36,   164,   221,   385,   74,    3,   12,   400,   9587),\n",
       "       ('2020-02-27T18:00:00', b'ITA',   248,   56,   304,   284,   588,  203,   45,   17,   650,  12014),\n",
       "       ('2020-02-28T18:00:00', b'ITA',   345,   64,   409,   412,   821,  233,   46,   21,   888,  15695),\n",
       "       ('2020-02-29T18:00:00', b'ITA',   401,  105,   506,   543,  1049,  228,   50,   29,  1128,  18661),\n",
       "       ('2020-03-01T18:00:00', b'ITA',   639,  140,   779,   798,  1577,  528,   83,   34,  1694,  21127),\n",
       "       ('2020-03-02T18:00:00', b'ITA',   742,  166,   908,   927,  1835,  258,  149,   52,  2036,  23345),\n",
       "       ('2020-03-03T18:00:00', b'ITA',  1034,  229,  1263,  1000,  2263,  428,  160,   79,  2502,  25856),\n",
       "       ('2020-03-04T18:00:00', b'ITA',  1346,  295,  1641,  1065,  2706,  443,  276,  107,  3089,  29837),\n",
       "       ('2020-03-05T18:00:00', b'ITA',  1790,  351,  2141,  1155,  3296,  590,  414,  148,  3858,  32362),\n",
       "       ('2020-03-06T18:00:00', b'ITA',  2394,  462,  2856,  1060,  3916,  620,  523,  197,  4636,  36359),\n",
       "       ('2020-03-07T18:00:00', b'ITA',  2651,  567,  3218,  1843,  5061, 1145,  589,  233,  5883,  42062),\n",
       "       ('2020-03-08T18:00:00', b'ITA',  3557,  650,  4207,  2180,  6387, 1326,  622,  366,  7375,  49937),\n",
       "       ('2020-03-09T18:00:00', b'ITA',  4316,  733,  5049,  2936,  7985, 1598,  724,  463,  9172,  53826),\n",
       "       ('2020-03-10T18:00:00', b'ITA',  5038,  877,  5915,  2599,  8514,  529, 1004,  631, 10149,  60761),\n",
       "       ('2020-03-11T17:00:00', b'ITA',  5838, 1028,  6866,  3724, 10590, 2076, 1045,  827, 12462,  73154),\n",
       "       ('2020-03-12T17:00:00', b'ITA',  6650, 1153,  7803,  5036, 12839, 2249, 1258, 1016, 15113,  86011),\n",
       "       ('2020-03-13T17:00:00', b'ITA',  7426, 1328,  8754,  6201, 14955, 2116, 1439, 1266, 17660,  97488),\n",
       "       ('2020-03-14T17:00:00', b'ITA',  8372, 1518,  9890,  7860, 17750, 2795, 1966, 1441, 21157, 109170),\n",
       "       ('2020-03-15T17:00:00', b'ITA',  9663, 1672, 11335,  9268, 20603, 2853, 2335, 1809, 24747, 124899),\n",
       "       ('2020-03-16T17:00:00', b'ITA', 11025, 1851, 12876, 10197, 23073, 2470, 2749, 2158, 27980, 137962),\n",
       "       ('2020-03-17T17:00:00', b'ITA', 12894, 2060, 14954, 11108, 26062, 2989, 2941, 2503, 31506, 148657),\n",
       "       ('2020-03-18T17:00:00', b'ITA', 14363, 2257, 16620, 12090, 28710, 2648, 4025, 2978, 35713, 165541),\n",
       "       ('2020-03-19T17:00:00', b'ITA', 15757, 2498, 18255, 14935, 33190, 4480, 4440, 3405, 41035, 182777),\n",
       "       ('2020-03-20T17:00:00', b'ITA', 16020, 2655, 18675, 19185, 37860, 4670, 5129, 4032, 47021, 206886),\n",
       "       ('2020-03-21T17:00:00', b'ITA', 17708, 2857, 20565, 22116, 42681, 4821, 6072, 4825, 53578, 233222)],\n",
       "      dtype=[('data', '<M8[s]'), ('stato', 'S3'), ('ricoverati_con_sintomi', '<i8'), ('terapia_intensiva', '<i8'), ('totale_ospedalizzati', '<i8'), ('isolamento_domiciliare', '<i8'), ('totale_attualmente_positivi', '<i8'), ('nuovi_attualmente_positivi', '<i8'), ('dimessi_guariti', '<i8'), ('deceduti', '<i8'), ('totale_casi', '<i8'), ('tamponi', '<i8')])"
      ]
     },
     "execution_count": 34,
     "metadata": {},
     "output_type": "execute_result"
    }
   ],
   "source": [
    "rows_np = np.genfromtxt( \n",
    "        cvs_national_fileurl,\n",
    "        dtype = dtype_andamento_nazionale,\n",
    "        delimiter=',', \n",
    "        names=True)\n",
    "rows_np"
   ]
  },
  {
   "cell_type": "code",
   "execution_count": 28,
   "metadata": {},
   "outputs": [
    {
     "data": {
      "text/html": [
       "<div>\n",
       "<style scoped>\n",
       "    .dataframe tbody tr th:only-of-type {\n",
       "        vertical-align: middle;\n",
       "    }\n",
       "\n",
       "    .dataframe tbody tr th {\n",
       "        vertical-align: top;\n",
       "    }\n",
       "\n",
       "    .dataframe thead th {\n",
       "        text-align: right;\n",
       "    }\n",
       "</style>\n",
       "<table border=\"1\" class=\"dataframe\">\n",
       "  <thead>\n",
       "    <tr style=\"text-align: right;\">\n",
       "      <th></th>\n",
       "      <th>data</th>\n",
       "      <th>stato</th>\n",
       "      <th>ricoverati_con_sintomi</th>\n",
       "      <th>terapia_intensiva</th>\n",
       "      <th>totale_ospedalizzati</th>\n",
       "      <th>isolamento_domiciliare</th>\n",
       "      <th>totale_attualmente_positivi</th>\n",
       "      <th>nuovi_attualmente_positivi</th>\n",
       "      <th>dimessi_guariti</th>\n",
       "      <th>deceduti</th>\n",
       "      <th>totale_casi</th>\n",
       "      <th>tamponi</th>\n",
       "    </tr>\n",
       "  </thead>\n",
       "  <tbody>\n",
       "    <tr>\n",
       "      <th>0</th>\n",
       "      <td>2020-02-24 18:00:00</td>\n",
       "      <td>b'ITA'</td>\n",
       "      <td>101</td>\n",
       "      <td>26</td>\n",
       "      <td>127</td>\n",
       "      <td>94</td>\n",
       "      <td>221</td>\n",
       "      <td>221</td>\n",
       "      <td>1</td>\n",
       "      <td>7</td>\n",
       "      <td>229</td>\n",
       "      <td>4324</td>\n",
       "    </tr>\n",
       "    <tr>\n",
       "      <th>1</th>\n",
       "      <td>2020-02-25 18:00:00</td>\n",
       "      <td>b'ITA'</td>\n",
       "      <td>114</td>\n",
       "      <td>35</td>\n",
       "      <td>150</td>\n",
       "      <td>162</td>\n",
       "      <td>311</td>\n",
       "      <td>90</td>\n",
       "      <td>1</td>\n",
       "      <td>10</td>\n",
       "      <td>322</td>\n",
       "      <td>8623</td>\n",
       "    </tr>\n",
       "    <tr>\n",
       "      <th>2</th>\n",
       "      <td>2020-02-26 18:00:00</td>\n",
       "      <td>b'ITA'</td>\n",
       "      <td>128</td>\n",
       "      <td>36</td>\n",
       "      <td>164</td>\n",
       "      <td>221</td>\n",
       "      <td>385</td>\n",
       "      <td>74</td>\n",
       "      <td>3</td>\n",
       "      <td>12</td>\n",
       "      <td>400</td>\n",
       "      <td>9587</td>\n",
       "    </tr>\n",
       "    <tr>\n",
       "      <th>3</th>\n",
       "      <td>2020-02-27 18:00:00</td>\n",
       "      <td>b'ITA'</td>\n",
       "      <td>248</td>\n",
       "      <td>56</td>\n",
       "      <td>304</td>\n",
       "      <td>284</td>\n",
       "      <td>588</td>\n",
       "      <td>203</td>\n",
       "      <td>45</td>\n",
       "      <td>17</td>\n",
       "      <td>650</td>\n",
       "      <td>12014</td>\n",
       "    </tr>\n",
       "    <tr>\n",
       "      <th>4</th>\n",
       "      <td>2020-02-28 18:00:00</td>\n",
       "      <td>b'ITA'</td>\n",
       "      <td>345</td>\n",
       "      <td>64</td>\n",
       "      <td>409</td>\n",
       "      <td>412</td>\n",
       "      <td>821</td>\n",
       "      <td>233</td>\n",
       "      <td>46</td>\n",
       "      <td>21</td>\n",
       "      <td>888</td>\n",
       "      <td>15695</td>\n",
       "    </tr>\n",
       "    <tr>\n",
       "      <th>5</th>\n",
       "      <td>2020-02-29 18:00:00</td>\n",
       "      <td>b'ITA'</td>\n",
       "      <td>401</td>\n",
       "      <td>105</td>\n",
       "      <td>506</td>\n",
       "      <td>543</td>\n",
       "      <td>1049</td>\n",
       "      <td>228</td>\n",
       "      <td>50</td>\n",
       "      <td>29</td>\n",
       "      <td>1128</td>\n",
       "      <td>18661</td>\n",
       "    </tr>\n",
       "    <tr>\n",
       "      <th>6</th>\n",
       "      <td>2020-03-01 18:00:00</td>\n",
       "      <td>b'ITA'</td>\n",
       "      <td>639</td>\n",
       "      <td>140</td>\n",
       "      <td>779</td>\n",
       "      <td>798</td>\n",
       "      <td>1577</td>\n",
       "      <td>528</td>\n",
       "      <td>83</td>\n",
       "      <td>34</td>\n",
       "      <td>1694</td>\n",
       "      <td>21127</td>\n",
       "    </tr>\n",
       "    <tr>\n",
       "      <th>7</th>\n",
       "      <td>2020-03-02 18:00:00</td>\n",
       "      <td>b'ITA'</td>\n",
       "      <td>742</td>\n",
       "      <td>166</td>\n",
       "      <td>908</td>\n",
       "      <td>927</td>\n",
       "      <td>1835</td>\n",
       "      <td>258</td>\n",
       "      <td>149</td>\n",
       "      <td>52</td>\n",
       "      <td>2036</td>\n",
       "      <td>23345</td>\n",
       "    </tr>\n",
       "    <tr>\n",
       "      <th>8</th>\n",
       "      <td>2020-03-03 18:00:00</td>\n",
       "      <td>b'ITA'</td>\n",
       "      <td>1034</td>\n",
       "      <td>229</td>\n",
       "      <td>1263</td>\n",
       "      <td>1000</td>\n",
       "      <td>2263</td>\n",
       "      <td>428</td>\n",
       "      <td>160</td>\n",
       "      <td>79</td>\n",
       "      <td>2502</td>\n",
       "      <td>25856</td>\n",
       "    </tr>\n",
       "    <tr>\n",
       "      <th>9</th>\n",
       "      <td>2020-03-04 18:00:00</td>\n",
       "      <td>b'ITA'</td>\n",
       "      <td>1346</td>\n",
       "      <td>295</td>\n",
       "      <td>1641</td>\n",
       "      <td>1065</td>\n",
       "      <td>2706</td>\n",
       "      <td>443</td>\n",
       "      <td>276</td>\n",
       "      <td>107</td>\n",
       "      <td>3089</td>\n",
       "      <td>29837</td>\n",
       "    </tr>\n",
       "    <tr>\n",
       "      <th>10</th>\n",
       "      <td>2020-03-05 18:00:00</td>\n",
       "      <td>b'ITA'</td>\n",
       "      <td>1790</td>\n",
       "      <td>351</td>\n",
       "      <td>2141</td>\n",
       "      <td>1155</td>\n",
       "      <td>3296</td>\n",
       "      <td>590</td>\n",
       "      <td>414</td>\n",
       "      <td>148</td>\n",
       "      <td>3858</td>\n",
       "      <td>32362</td>\n",
       "    </tr>\n",
       "    <tr>\n",
       "      <th>11</th>\n",
       "      <td>2020-03-06 18:00:00</td>\n",
       "      <td>b'ITA'</td>\n",
       "      <td>2394</td>\n",
       "      <td>462</td>\n",
       "      <td>2856</td>\n",
       "      <td>1060</td>\n",
       "      <td>3916</td>\n",
       "      <td>620</td>\n",
       "      <td>523</td>\n",
       "      <td>197</td>\n",
       "      <td>4636</td>\n",
       "      <td>36359</td>\n",
       "    </tr>\n",
       "    <tr>\n",
       "      <th>12</th>\n",
       "      <td>2020-03-07 18:00:00</td>\n",
       "      <td>b'ITA'</td>\n",
       "      <td>2651</td>\n",
       "      <td>567</td>\n",
       "      <td>3218</td>\n",
       "      <td>1843</td>\n",
       "      <td>5061</td>\n",
       "      <td>1145</td>\n",
       "      <td>589</td>\n",
       "      <td>233</td>\n",
       "      <td>5883</td>\n",
       "      <td>42062</td>\n",
       "    </tr>\n",
       "    <tr>\n",
       "      <th>13</th>\n",
       "      <td>2020-03-08 18:00:00</td>\n",
       "      <td>b'ITA'</td>\n",
       "      <td>3557</td>\n",
       "      <td>650</td>\n",
       "      <td>4207</td>\n",
       "      <td>2180</td>\n",
       "      <td>6387</td>\n",
       "      <td>1326</td>\n",
       "      <td>622</td>\n",
       "      <td>366</td>\n",
       "      <td>7375</td>\n",
       "      <td>49937</td>\n",
       "    </tr>\n",
       "    <tr>\n",
       "      <th>14</th>\n",
       "      <td>2020-03-09 18:00:00</td>\n",
       "      <td>b'ITA'</td>\n",
       "      <td>4316</td>\n",
       "      <td>733</td>\n",
       "      <td>5049</td>\n",
       "      <td>2936</td>\n",
       "      <td>7985</td>\n",
       "      <td>1598</td>\n",
       "      <td>724</td>\n",
       "      <td>463</td>\n",
       "      <td>9172</td>\n",
       "      <td>53826</td>\n",
       "    </tr>\n",
       "    <tr>\n",
       "      <th>15</th>\n",
       "      <td>2020-03-10 18:00:00</td>\n",
       "      <td>b'ITA'</td>\n",
       "      <td>5038</td>\n",
       "      <td>877</td>\n",
       "      <td>5915</td>\n",
       "      <td>2599</td>\n",
       "      <td>8514</td>\n",
       "      <td>529</td>\n",
       "      <td>1004</td>\n",
       "      <td>631</td>\n",
       "      <td>10149</td>\n",
       "      <td>60761</td>\n",
       "    </tr>\n",
       "    <tr>\n",
       "      <th>16</th>\n",
       "      <td>2020-03-11 17:00:00</td>\n",
       "      <td>b'ITA'</td>\n",
       "      <td>5838</td>\n",
       "      <td>1028</td>\n",
       "      <td>6866</td>\n",
       "      <td>3724</td>\n",
       "      <td>10590</td>\n",
       "      <td>2076</td>\n",
       "      <td>1045</td>\n",
       "      <td>827</td>\n",
       "      <td>12462</td>\n",
       "      <td>73154</td>\n",
       "    </tr>\n",
       "    <tr>\n",
       "      <th>17</th>\n",
       "      <td>2020-03-12 17:00:00</td>\n",
       "      <td>b'ITA'</td>\n",
       "      <td>6650</td>\n",
       "      <td>1153</td>\n",
       "      <td>7803</td>\n",
       "      <td>5036</td>\n",
       "      <td>12839</td>\n",
       "      <td>2249</td>\n",
       "      <td>1258</td>\n",
       "      <td>1016</td>\n",
       "      <td>15113</td>\n",
       "      <td>86011</td>\n",
       "    </tr>\n",
       "    <tr>\n",
       "      <th>18</th>\n",
       "      <td>2020-03-13 17:00:00</td>\n",
       "      <td>b'ITA'</td>\n",
       "      <td>7426</td>\n",
       "      <td>1328</td>\n",
       "      <td>8754</td>\n",
       "      <td>6201</td>\n",
       "      <td>14955</td>\n",
       "      <td>2116</td>\n",
       "      <td>1439</td>\n",
       "      <td>1266</td>\n",
       "      <td>17660</td>\n",
       "      <td>97488</td>\n",
       "    </tr>\n",
       "    <tr>\n",
       "      <th>19</th>\n",
       "      <td>2020-03-14 17:00:00</td>\n",
       "      <td>b'ITA'</td>\n",
       "      <td>8372</td>\n",
       "      <td>1518</td>\n",
       "      <td>9890</td>\n",
       "      <td>7860</td>\n",
       "      <td>17750</td>\n",
       "      <td>2795</td>\n",
       "      <td>1966</td>\n",
       "      <td>1441</td>\n",
       "      <td>21157</td>\n",
       "      <td>109170</td>\n",
       "    </tr>\n",
       "    <tr>\n",
       "      <th>20</th>\n",
       "      <td>2020-03-15 17:00:00</td>\n",
       "      <td>b'ITA'</td>\n",
       "      <td>9663</td>\n",
       "      <td>1672</td>\n",
       "      <td>11335</td>\n",
       "      <td>9268</td>\n",
       "      <td>20603</td>\n",
       "      <td>2853</td>\n",
       "      <td>2335</td>\n",
       "      <td>1809</td>\n",
       "      <td>24747</td>\n",
       "      <td>124899</td>\n",
       "    </tr>\n",
       "    <tr>\n",
       "      <th>21</th>\n",
       "      <td>2020-03-16 17:00:00</td>\n",
       "      <td>b'ITA'</td>\n",
       "      <td>11025</td>\n",
       "      <td>1851</td>\n",
       "      <td>12876</td>\n",
       "      <td>10197</td>\n",
       "      <td>23073</td>\n",
       "      <td>2470</td>\n",
       "      <td>2749</td>\n",
       "      <td>2158</td>\n",
       "      <td>27980</td>\n",
       "      <td>137962</td>\n",
       "    </tr>\n",
       "    <tr>\n",
       "      <th>22</th>\n",
       "      <td>2020-03-17 17:00:00</td>\n",
       "      <td>b'ITA'</td>\n",
       "      <td>12894</td>\n",
       "      <td>2060</td>\n",
       "      <td>14954</td>\n",
       "      <td>11108</td>\n",
       "      <td>26062</td>\n",
       "      <td>2989</td>\n",
       "      <td>2941</td>\n",
       "      <td>2503</td>\n",
       "      <td>31506</td>\n",
       "      <td>148657</td>\n",
       "    </tr>\n",
       "    <tr>\n",
       "      <th>23</th>\n",
       "      <td>2020-03-18 17:00:00</td>\n",
       "      <td>b'ITA'</td>\n",
       "      <td>14363</td>\n",
       "      <td>2257</td>\n",
       "      <td>16620</td>\n",
       "      <td>12090</td>\n",
       "      <td>28710</td>\n",
       "      <td>2648</td>\n",
       "      <td>4025</td>\n",
       "      <td>2978</td>\n",
       "      <td>35713</td>\n",
       "      <td>165541</td>\n",
       "    </tr>\n",
       "    <tr>\n",
       "      <th>24</th>\n",
       "      <td>2020-03-19 17:00:00</td>\n",
       "      <td>b'ITA'</td>\n",
       "      <td>15757</td>\n",
       "      <td>2498</td>\n",
       "      <td>18255</td>\n",
       "      <td>14935</td>\n",
       "      <td>33190</td>\n",
       "      <td>4480</td>\n",
       "      <td>4440</td>\n",
       "      <td>3405</td>\n",
       "      <td>41035</td>\n",
       "      <td>182777</td>\n",
       "    </tr>\n",
       "    <tr>\n",
       "      <th>25</th>\n",
       "      <td>2020-03-20 17:00:00</td>\n",
       "      <td>b'ITA'</td>\n",
       "      <td>16020</td>\n",
       "      <td>2655</td>\n",
       "      <td>18675</td>\n",
       "      <td>19185</td>\n",
       "      <td>37860</td>\n",
       "      <td>4670</td>\n",
       "      <td>5129</td>\n",
       "      <td>4032</td>\n",
       "      <td>47021</td>\n",
       "      <td>206886</td>\n",
       "    </tr>\n",
       "    <tr>\n",
       "      <th>26</th>\n",
       "      <td>2020-03-21 17:00:00</td>\n",
       "      <td>b'ITA'</td>\n",
       "      <td>17708</td>\n",
       "      <td>2857</td>\n",
       "      <td>20565</td>\n",
       "      <td>22116</td>\n",
       "      <td>42681</td>\n",
       "      <td>4821</td>\n",
       "      <td>6072</td>\n",
       "      <td>4825</td>\n",
       "      <td>53578</td>\n",
       "      <td>233222</td>\n",
       "    </tr>\n",
       "  </tbody>\n",
       "</table>\n",
       "</div>"
      ],
      "text/plain": [
       "                  data   stato  ricoverati_con_sintomi  terapia_intensiva  \\\n",
       "0  2020-02-24 18:00:00  b'ITA'                     101                 26   \n",
       "1  2020-02-25 18:00:00  b'ITA'                     114                 35   \n",
       "2  2020-02-26 18:00:00  b'ITA'                     128                 36   \n",
       "3  2020-02-27 18:00:00  b'ITA'                     248                 56   \n",
       "4  2020-02-28 18:00:00  b'ITA'                     345                 64   \n",
       "5  2020-02-29 18:00:00  b'ITA'                     401                105   \n",
       "6  2020-03-01 18:00:00  b'ITA'                     639                140   \n",
       "7  2020-03-02 18:00:00  b'ITA'                     742                166   \n",
       "8  2020-03-03 18:00:00  b'ITA'                    1034                229   \n",
       "9  2020-03-04 18:00:00  b'ITA'                    1346                295   \n",
       "10 2020-03-05 18:00:00  b'ITA'                    1790                351   \n",
       "11 2020-03-06 18:00:00  b'ITA'                    2394                462   \n",
       "12 2020-03-07 18:00:00  b'ITA'                    2651                567   \n",
       "13 2020-03-08 18:00:00  b'ITA'                    3557                650   \n",
       "14 2020-03-09 18:00:00  b'ITA'                    4316                733   \n",
       "15 2020-03-10 18:00:00  b'ITA'                    5038                877   \n",
       "16 2020-03-11 17:00:00  b'ITA'                    5838               1028   \n",
       "17 2020-03-12 17:00:00  b'ITA'                    6650               1153   \n",
       "18 2020-03-13 17:00:00  b'ITA'                    7426               1328   \n",
       "19 2020-03-14 17:00:00  b'ITA'                    8372               1518   \n",
       "20 2020-03-15 17:00:00  b'ITA'                    9663               1672   \n",
       "21 2020-03-16 17:00:00  b'ITA'                   11025               1851   \n",
       "22 2020-03-17 17:00:00  b'ITA'                   12894               2060   \n",
       "23 2020-03-18 17:00:00  b'ITA'                   14363               2257   \n",
       "24 2020-03-19 17:00:00  b'ITA'                   15757               2498   \n",
       "25 2020-03-20 17:00:00  b'ITA'                   16020               2655   \n",
       "26 2020-03-21 17:00:00  b'ITA'                   17708               2857   \n",
       "\n",
       "    totale_ospedalizzati  isolamento_domiciliare  totale_attualmente_positivi  \\\n",
       "0                    127                      94                          221   \n",
       "1                    150                     162                          311   \n",
       "2                    164                     221                          385   \n",
       "3                    304                     284                          588   \n",
       "4                    409                     412                          821   \n",
       "5                    506                     543                         1049   \n",
       "6                    779                     798                         1577   \n",
       "7                    908                     927                         1835   \n",
       "8                   1263                    1000                         2263   \n",
       "9                   1641                    1065                         2706   \n",
       "10                  2141                    1155                         3296   \n",
       "11                  2856                    1060                         3916   \n",
       "12                  3218                    1843                         5061   \n",
       "13                  4207                    2180                         6387   \n",
       "14                  5049                    2936                         7985   \n",
       "15                  5915                    2599                         8514   \n",
       "16                  6866                    3724                        10590   \n",
       "17                  7803                    5036                        12839   \n",
       "18                  8754                    6201                        14955   \n",
       "19                  9890                    7860                        17750   \n",
       "20                 11335                    9268                        20603   \n",
       "21                 12876                   10197                        23073   \n",
       "22                 14954                   11108                        26062   \n",
       "23                 16620                   12090                        28710   \n",
       "24                 18255                   14935                        33190   \n",
       "25                 18675                   19185                        37860   \n",
       "26                 20565                   22116                        42681   \n",
       "\n",
       "    nuovi_attualmente_positivi  dimessi_guariti  deceduti  totale_casi  \\\n",
       "0                          221                1         7          229   \n",
       "1                           90                1        10          322   \n",
       "2                           74                3        12          400   \n",
       "3                          203               45        17          650   \n",
       "4                          233               46        21          888   \n",
       "5                          228               50        29         1128   \n",
       "6                          528               83        34         1694   \n",
       "7                          258              149        52         2036   \n",
       "8                          428              160        79         2502   \n",
       "9                          443              276       107         3089   \n",
       "10                         590              414       148         3858   \n",
       "11                         620              523       197         4636   \n",
       "12                        1145              589       233         5883   \n",
       "13                        1326              622       366         7375   \n",
       "14                        1598              724       463         9172   \n",
       "15                         529             1004       631        10149   \n",
       "16                        2076             1045       827        12462   \n",
       "17                        2249             1258      1016        15113   \n",
       "18                        2116             1439      1266        17660   \n",
       "19                        2795             1966      1441        21157   \n",
       "20                        2853             2335      1809        24747   \n",
       "21                        2470             2749      2158        27980   \n",
       "22                        2989             2941      2503        31506   \n",
       "23                        2648             4025      2978        35713   \n",
       "24                        4480             4440      3405        41035   \n",
       "25                        4670             5129      4032        47021   \n",
       "26                        4821             6072      4825        53578   \n",
       "\n",
       "    tamponi  \n",
       "0      4324  \n",
       "1      8623  \n",
       "2      9587  \n",
       "3     12014  \n",
       "4     15695  \n",
       "5     18661  \n",
       "6     21127  \n",
       "7     23345  \n",
       "8     25856  \n",
       "9     29837  \n",
       "10    32362  \n",
       "11    36359  \n",
       "12    42062  \n",
       "13    49937  \n",
       "14    53826  \n",
       "15    60761  \n",
       "16    73154  \n",
       "17    86011  \n",
       "18    97488  \n",
       "19   109170  \n",
       "20   124899  \n",
       "21   137962  \n",
       "22   148657  \n",
       "23   165541  \n",
       "24   182777  \n",
       "25   206886  \n",
       "26   233222  "
      ]
     },
     "execution_count": 28,
     "metadata": {},
     "output_type": "execute_result"
    }
   ],
   "source": [
    "rows_pd = pd.DataFrame(rows_np)\n",
    "rows_pd"
   ]
  },
  {
   "cell_type": "code",
   "execution_count": 24,
   "metadata": {},
   "outputs": [
    {
     "data": {
      "text/plain": [
       "array(['2020-02-24T18:00:00', '2020-02-25T18:00:00',\n",
       "       '2020-02-26T18:00:00', '2020-02-27T18:00:00',\n",
       "       '2020-02-28T18:00:00', '2020-02-29T18:00:00',\n",
       "       '2020-03-01T18:00:00', '2020-03-02T18:00:00',\n",
       "       '2020-03-03T18:00:00', '2020-03-04T18:00:00',\n",
       "       '2020-03-05T18:00:00', '2020-03-06T18:00:00',\n",
       "       '2020-03-07T18:00:00', '2020-03-08T18:00:00',\n",
       "       '2020-03-09T18:00:00', '2020-03-10T18:00:00',\n",
       "       '2020-03-11T17:00:00', '2020-03-12T17:00:00',\n",
       "       '2020-03-13T17:00:00', '2020-03-14T17:00:00',\n",
       "       '2020-03-15T17:00:00', '2020-03-16T17:00:00',\n",
       "       '2020-03-17T17:00:00', '2020-03-18T17:00:00',\n",
       "       '2020-03-19T17:00:00', '2020-03-20T17:00:00',\n",
       "       '2020-03-21T17:00:00'], dtype='datetime64[s]')"
      ]
     },
     "execution_count": 24,
     "metadata": {},
     "output_type": "execute_result"
    }
   ],
   "source": [
    "#day_slash_month = np.char.add(np.char.add(rows['giorno'].astype(np.unicode_), '/'), rows['mese'].astype(np.unicode_))\n",
    "# day_slash_month_np = np.char.add(np.char.add(rows['giorno'].astype(np.unicode_), '/'), rows['mese'].astype(np.unicode_))\n",
    "date_np = rows_np['data']\n",
    "date_np"
   ]
  },
  {
   "cell_type": "code",
   "execution_count": 26,
   "metadata": {},
   "outputs": [
    {
     "name": "stderr",
     "output_type": "stream",
     "text": [
      "c:\\program files\\python37\\lib\\site-packages\\pandas\\plotting\\_matplotlib\\converter.py:102: FutureWarning: Using an implicitly registered datetime converter for a matplotlib plotting method. The converter was registered by pandas on import. Future versions of pandas will require you to explicitly register matplotlib converters.\n",
      "\n",
      "To register the converters:\n",
      "\t>>> from pandas.plotting import register_matplotlib_converters\n",
      "\t>>> register_matplotlib_converters()\n",
      "  warnings.warn(msg, FutureWarning)\n"
     ]
    },
    {
     "data": {
      "text/plain": [
       "[<matplotlib.lines.Line2D at 0x1c9af077408>]"
      ]
     },
     "execution_count": 26,
     "metadata": {},
     "output_type": "execute_result"
    },
    {
     "data": {
      "image/png": "[encoded data removed]",
      "text/plain": [
       "<Figure size 432x288 with 1 Axes>"
      ]
     },
     "metadata": {
      "needs_background": "light"
     },
     "output_type": "display_data"
    }
   ],
   "source": [
    "plt.plot(date_np, rows_np['tamponi'])"
   ]
  },
  {
   "cell_type": "raw",
   "metadata": {},
   "source": [
    "According to the number of COVID-19 cases diagnosed daily from January 17 to February 8 in Hubei Province (Table 1), EG calculated R0 = 3.49 (95% CI: 3.42 to 3.58); ML calculated R0 = 2.99 (95 % CI: 2.93 ~ 3.06); SB and TD methods calculate R0 value = 2.80 (95% CI: 2.42 ~ 3.15) and 4.48 (95% CI: 4.26 ~ 4.71). From the number of cases observed and the fit of the four methods to predict the number of cases (Figure 1), we can see that the EG method has the best fitting effect. [Estimating the basic reproduction number of COVID-19 in Wuhan, China https://www.ncbi.nlm.nih.gov/pubmed/32125128]"
   ]
  },
  {
   "cell_type": "code",
   "execution_count": 113,
   "metadata": {},
   "outputs": [
    {
     "data": {
      "text/plain": [
       "array([  221,   311,   385,   588,   821,  1049,  1577,  1835,  2263,\n",
       "        2706,  3296,  3916,  5061,  6387,  7985,  8514, 10590, 12839,\n",
       "       14955, 17750, 20603, 23073], dtype=int64)"
      ]
     },
     "execution_count": 113,
     "metadata": {},
     "output_type": "execute_result"
    }
   ],
   "source": [
    "rows['totale_attualmente_positivi']"
   ]
  },
  {
   "cell_type": "code",
   "execution_count": 124,
   "metadata": {},
   "outputs": [
    {
     "data": {
      "text/plain": [
       "[<matplotlib.lines.Line2D at 0x2158b64dec8>]"
      ]
     },
     "execution_count": 124,
     "metadata": {},
     "output_type": "execute_result"
    },
    {
     "data": {
      "image/png": "[encoded data removed]",
      "text/plain": [
       "<Figure size 432x288 with 1 Axes>"
      ]
     },
     "metadata": {
      "needs_background": "light"
     },
     "output_type": "display_data"
    }
   ],
   "source": [
    "growth_daily_num = np.diff(rows['totale_attualmente_positivi'])\n",
    "r_factor = growth_daily_num / rows['totale_attualmente_positivi'][:-1]\n",
    "plt.plot(day_slash_month[1:],r_factor)"
   ]
  },
  {
   "cell_type": "code",
   "execution_count": 128,
   "metadata": {},
   "outputs": [
    {
     "data": {
      "text/plain": [
       "[<matplotlib.lines.Line2D at 0x2158c75b508>]"
      ]
     },
     "execution_count": 128,
     "metadata": {},
     "output_type": "execute_result"
    },
    {
     "data": {
      "image/png": "[encoded data removed]",
      "text/plain": [
       "<Figure size 432x288 with 1 Axes>"
      ]
     },
     "metadata": {
      "needs_background": "light"
     },
     "output_type": "display_data"
    }
   ],
   "source": [
    "growth_daily_num_ti = np.diff(rows['terapia_intensiva'])\n",
    "r_factor = growth_daily_num / rows['totale_attualmente_positivi'][:-1]\n",
    "plt.plot(day_slash_month[1:],r_factor)"
   ]
  },
  {
   "cell_type": "code",
   "execution_count": 132,
   "metadata": {},
   "outputs": [
    {
     "data": {
      "text/plain": [
       "array([0.07086614, 0.00666667, 0.12195122, 0.02631579, 0.1002445 ,\n",
       "       0.06916996, 0.03337612, 0.06938326, 0.05225653, 0.03412553,\n",
       "       0.05184493, 0.03676471, 0.02579242, 0.01972902, 0.0285205 ,\n",
       "       0.02552832, 0.01820565, 0.02242727, 0.02170436, 0.01557128,\n",
       "       0.0157918 ])"
      ]
     },
     "execution_count": 132,
     "metadata": {},
     "output_type": "execute_result"
    },
    {
     "data": {
      "image/png": "[encoded data removed]",
      "text/plain": [
       "<Figure size 432x288 with 1 Axes>"
      ]
     },
     "metadata": {
      "needs_background": "light"
     },
     "output_type": "display_data"
    }
   ],
   "source": [
    "growth_daily_num_ti = np.diff(rows['totale_ospedalizzati'])\n",
    "r_factor = growth_daily_num / rows['totale_ospedalizzati'][:-1]\n",
    "plt.plot(day_slash_month[1:],r_factor)\n",
    "r_factor"
   ]
  },
  {
   "cell_type": "code",
   "execution_count": 119,
   "metadata": {},
   "outputs": [
    {
     "data": {
      "text/plain": [
       "array([0.40723982, 0.23794212, 0.52727273, 0.3962585 , 0.27771011,\n",
       "       0.50333651, 0.16360178, 0.23324251, 0.19575784, 0.218034  ,\n",
       "       0.1881068 , 0.29239019, 0.26200356, 0.25019571, 0.06624922,\n",
       "       0.24383369, 0.21237016, 0.16481034, 0.18689402, 0.16073239,\n",
       "       0.11988545])"
      ]
     },
     "execution_count": 119,
     "metadata": {},
     "output_type": "execute_result"
    }
   ],
   "source": [
    "r_factor"
   ]
  },
  {
   "cell_type": "code",
   "execution_count": 120,
   "metadata": {},
   "outputs": [
    {
     "data": {
      "text/plain": [
       "[<matplotlib.lines.Line2D at 0x2158b598f48>]"
      ]
     },
     "execution_count": 120,
     "metadata": {},
     "output_type": "execute_result"
    },
    {
     "data": {
      "image/png": "[encoded data removed]",
      "text/plain": [
       "<Figure size 432x288 with 1 Axes>"
      ]
     },
     "metadata": {
      "needs_background": "light"
     },
     "output_type": "display_data"
    }
   ],
   "source": []
  },
  {
   "cell_type": "code",
   "execution_count": 121,
   "metadata": {},
   "outputs": [],
   "source": [
    "r_factor_mean = np.mean(r_factor)"
   ]
  },
  {
   "cell_type": "code",
   "execution_count": 122,
   "metadata": {},
   "outputs": [
    {
     "data": {
      "text/plain": [
       "0.252755592572651"
      ]
     },
     "execution_count": 122,
     "metadata": {},
     "output_type": "execute_result"
    }
   ],
   "source": [
    "r_factor_mean"
   ]
  },
  {
   "cell_type": "code",
   "execution_count": 123,
   "metadata": {},
   "outputs": [
    {
     "data": {
      "text/plain": [
       "25094.90916138113"
      ]
     },
     "execution_count": 123,
     "metadata": {},
     "output_type": "execute_result"
    }
   ],
   "source": [
    "221*((1+r_factor_mean)**21)"
   ]
  },
  {
   "cell_type": "code",
   "execution_count": null,
   "metadata": {},
   "outputs": [],
   "source": []
  }
 ],
 "metadata": {
  "kernelspec": {
   "display_name": "Python 3",
   "language": "python",
   "name": "python3"
  },
  "language_info": {
   "codemirror_mode": {
    "name": "ipython",
    "version": 3
   },
   "file_extension": ".py",
   "mimetype": "text/x-python",
   "name": "python",
   "nbconvert_exporter": "python",
   "pygments_lexer": "ipython3",
   "version": "3.7.4"
  }
 },
 "nbformat": 4,
 "nbformat_minor": 4
}
